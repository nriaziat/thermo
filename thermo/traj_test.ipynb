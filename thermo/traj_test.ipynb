{
 "cells": [
  {
   "cell_type": "code",
   "execution_count": 1,
   "metadata": {},
   "outputs": [],
   "source": [
    "%matplotlib widget \n",
    "from Trajectory import Trajectory\n",
    "import matplotlib.pyplot as plt\n",
    "from scipy.spatial.transform import Rotation as R\n",
    "import numpy as np"
   ]
  },
  {
   "cell_type": "code",
   "execution_count": 2,
   "metadata": {},
   "outputs": [],
   "source": [
    "\n",
    "def plot_trajectory(traj: Trajectory):\n",
    "    fig = plt.figure()\n",
    "    ax = fig.add_subplot(111, projection='3d')\n",
    "    for point, orientation in traj:\n",
    "        point *= 200\n",
    "        x_axis = orientation.apply([1, 0, 0])\n",
    "        y_axis = orientation.apply([0, 1, 0])\n",
    "        z_axis = orientation.apply([0, 0, 1])\n",
    "        ax.quiver(point[0], point[1], point[2], x_axis[0], x_axis[1], x_axis[2], color='r')\n",
    "        ax.quiver(point[0], point[1], point[2], y_axis[0], y_axis[1], y_axis[2], color='g')\n",
    "        ax.quiver(point[0], point[1], point[2], z_axis[0], z_axis[1], z_axis[2], color='b')\n",
    "    ax.plot(traj.points[:, 0], traj.points[:, 1], traj.points[:, 2], color='black', marker='o', alpha=0.5)\n",
    "    # spline_points = 1000 * traj.spline(np.arange(0, len(traj.points), 1)) \n",
    "    # ax.plot(spline_points[:, 0], spline_points[:, 1], spline_points[:, 2], color='orange', alpha=0.5)\n",
    "    # tangent_spline = traj.spline.derivative()\n",
    "    # tangent_points = tangent_spline(np.arange(0, len(traj.points), 1))\n",
    "    # ax.quiver(spline_points[:, 0], spline_points[:, 1], spline_points[:, 2], tangent_points[:, 0], tangent_points[:, 1], tangent_points[:, 2], color='black', alpha=0.5)\n",
    "    ax.set_xlabel('X [mm]')\n",
    "    ax.set_ylabel('Y [mm]')\n",
    "    ax.set_zlabel('Z [mm]')\n",
    "    ax.set_aspect('equal')\n",
    "    plt.show()"
   ]
  },
  {
   "cell_type": "code",
   "execution_count": 3,
   "metadata": {},
   "outputs": [
    {
     "ename": "AssertionError",
     "evalue": "Tangent is not orthogonal to normal: [ 0.5223541  -0.04471659  0.85155541] [ 0.53929365 -0.13544655  0.8311538 ] = 0.9955324808119844",
     "output_type": "error",
     "traceback": [
      "\u001b[0;31m---------------------------------------------------------------------------\u001b[0m",
      "\u001b[0;31mAssertionError\u001b[0m                            Traceback (most recent call last)",
      "Cell \u001b[0;32mIn[3], line 1\u001b[0m\n\u001b[0;32m----> 1\u001b[0m traj \u001b[38;5;241m=\u001b[39m \u001b[43mTrajectory\u001b[49m\u001b[43m(\u001b[49m\u001b[38;5;28;43mdir\u001b[39;49m\u001b[38;5;241;43m=\u001b[39;49m\u001b[38;5;124;43m'\u001b[39;49m\u001b[38;5;124;43m../../trajectory\u001b[39;49m\u001b[38;5;124;43m'\u001b[39;49m\u001b[43m)\u001b[49m\n\u001b[1;32m      2\u001b[0m plot_trajectory(traj)\n",
      "File \u001b[0;32m~/ros2_wss/speed_ws/src/thermo/thermo/Trajectory.py:17\u001b[0m, in \u001b[0;36mTrajectory.__init__\u001b[0;34m(self, dir)\u001b[0m\n\u001b[1;32m     15\u001b[0m \u001b[38;5;28mself\u001b[39m\u001b[38;5;241m.\u001b[39m_len \u001b[38;5;241m=\u001b[39m \u001b[38;5;28mlen\u001b[39m(\u001b[38;5;28mself\u001b[39m\u001b[38;5;241m.\u001b[39mpoints)\n\u001b[1;32m     16\u001b[0m \u001b[38;5;28mself\u001b[39m\u001b[38;5;241m.\u001b[39m_orientations: \u001b[38;5;28mlist\u001b[39m[R] \u001b[38;5;241m=\u001b[39m []\n\u001b[0;32m---> 17\u001b[0m \u001b[38;5;28;43mself\u001b[39;49m\u001b[38;5;241;43m.\u001b[39;49m\u001b[43m_compute_orientation\u001b[49m\u001b[43m(\u001b[49m\u001b[43m)\u001b[49m\n",
      "File \u001b[0;32m~/ros2_wss/speed_ws/src/thermo/thermo/Trajectory.py:35\u001b[0m, in \u001b[0;36mTrajectory._compute_orientation\u001b[0;34m(self)\u001b[0m\n\u001b[1;32m     33\u001b[0m \u001b[38;5;28;01mdef\u001b[39;00m\u001b[38;5;250m \u001b[39m\u001b[38;5;21m_compute_orientation\u001b[39m(\u001b[38;5;28mself\u001b[39m):\n\u001b[1;32m     34\u001b[0m     \u001b[38;5;66;03m# for each point, compute the orientation of the end effector in the global frame that would align the z-axis with the normal and best align the x-axis with the tangent\u001b[39;00m\n\u001b[0;32m---> 35\u001b[0m     \u001b[38;5;28;43mself\u001b[39;49m\u001b[38;5;241;43m.\u001b[39;49m\u001b[43m_compute_projected_tangents\u001b[49m\u001b[43m(\u001b[49m\u001b[43m)\u001b[49m\n\u001b[1;32m     36\u001b[0m     \u001b[38;5;28;01mfor\u001b[39;00m i \u001b[38;5;129;01min\u001b[39;00m \u001b[38;5;28mrange\u001b[39m(\u001b[38;5;28mself\u001b[39m\u001b[38;5;241m.\u001b[39m_len):\n\u001b[1;32m     37\u001b[0m         z \u001b[38;5;241m=\u001b[39m \u001b[38;5;241m-\u001b[39m\u001b[38;5;28mself\u001b[39m\u001b[38;5;241m.\u001b[39mnormals[i] \n",
      "File \u001b[0;32m~/ros2_wss/speed_ws/src/thermo/thermo/Trajectory.py:27\u001b[0m, in \u001b[0;36mTrajectory._compute_projected_tangents\u001b[0;34m(self)\u001b[0m\n\u001b[1;32m     25\u001b[0m \u001b[38;5;28;01mfor\u001b[39;00m i \u001b[38;5;129;01min\u001b[39;00m \u001b[38;5;28mrange\u001b[39m(\u001b[38;5;28mself\u001b[39m\u001b[38;5;241m.\u001b[39m_len):\n\u001b[1;32m     26\u001b[0m     \u001b[38;5;28mself\u001b[39m\u001b[38;5;241m.\u001b[39mprojected_tangents[i] \u001b[38;5;241m=\u001b[39m \u001b[38;5;28mself\u001b[39m\u001b[38;5;241m.\u001b[39mtangent_spline(i) \u001b[38;5;241m/\u001b[39m np\u001b[38;5;241m.\u001b[39mlinalg\u001b[38;5;241m.\u001b[39mnorm(\u001b[38;5;28mself\u001b[39m\u001b[38;5;241m.\u001b[39mtangent_spline(i))\n\u001b[0;32m---> 27\u001b[0m     \u001b[38;5;28;01massert\u001b[39;00m np\u001b[38;5;241m.\u001b[39mdot(\u001b[38;5;28mself\u001b[39m\u001b[38;5;241m.\u001b[39mprojected_tangents[i], \u001b[38;5;28mself\u001b[39m\u001b[38;5;241m.\u001b[39mnormals[i]) \u001b[38;5;241m<\u001b[39m \u001b[38;5;241m0.9\u001b[39m, \u001b[38;5;124mf\u001b[39m\u001b[38;5;124m\"\u001b[39m\u001b[38;5;124mTangent is not orthogonal to normal: \u001b[39m\u001b[38;5;132;01m{\u001b[39;00m\u001b[38;5;28mself\u001b[39m\u001b[38;5;241m.\u001b[39mprojected_tangents[i]\u001b[38;5;132;01m}\u001b[39;00m\u001b[38;5;124m \u001b[39m\u001b[38;5;132;01m{\u001b[39;00m\u001b[38;5;28mself\u001b[39m\u001b[38;5;241m.\u001b[39mnormals[i]\u001b[38;5;132;01m}\u001b[39;00m\u001b[38;5;124m = \u001b[39m\u001b[38;5;132;01m{\u001b[39;00mnp\u001b[38;5;241m.\u001b[39mdot(\u001b[38;5;28mself\u001b[39m\u001b[38;5;241m.\u001b[39mprojected_tangents[i],\u001b[38;5;250m \u001b[39m\u001b[38;5;28mself\u001b[39m\u001b[38;5;241m.\u001b[39mnormals[i])\u001b[38;5;132;01m}\u001b[39;00m\u001b[38;5;124m\"\u001b[39m\n\u001b[1;32m     28\u001b[0m     \u001b[38;5;28mself\u001b[39m\u001b[38;5;241m.\u001b[39mprojected_tangents[i] \u001b[38;5;241m-\u001b[39m\u001b[38;5;241m=\u001b[39m np\u001b[38;5;241m.\u001b[39mdot(\u001b[38;5;28mself\u001b[39m\u001b[38;5;241m.\u001b[39mprojected_tangents[i], \u001b[38;5;28mself\u001b[39m\u001b[38;5;241m.\u001b[39mnormals[i]) \u001b[38;5;241m*\u001b[39m \u001b[38;5;28mself\u001b[39m\u001b[38;5;241m.\u001b[39mnormals[i]\n\u001b[1;32m     29\u001b[0m     \u001b[38;5;28mself\u001b[39m\u001b[38;5;241m.\u001b[39mprojected_tangents[i] \u001b[38;5;241m/\u001b[39m\u001b[38;5;241m=\u001b[39m np\u001b[38;5;241m.\u001b[39mlinalg\u001b[38;5;241m.\u001b[39mnorm(\u001b[38;5;28mself\u001b[39m\u001b[38;5;241m.\u001b[39mprojected_tangents[i])\n",
      "\u001b[0;31mAssertionError\u001b[0m: Tangent is not orthogonal to normal: [ 0.5223541  -0.04471659  0.85155541] [ 0.53929365 -0.13544655  0.8311538 ] = 0.9955324808119844"
     ]
    }
   ],
   "source": [
    "traj = Trajectory(dir='../../trajectory')\n",
    "plot_trajectory(traj)"
   ]
  },
  {
   "cell_type": "code",
   "execution_count": 4,
   "metadata": {},
   "outputs": [],
   "source": [
    "plt.close('all')"
   ]
  }
 ],
 "metadata": {
  "kernelspec": {
   "display_name": "venv",
   "language": "python",
   "name": "python3"
  },
  "language_info": {
   "codemirror_mode": {
    "name": "ipython",
    "version": 3
   },
   "file_extension": ".py",
   "mimetype": "text/x-python",
   "name": "python",
   "nbconvert_exporter": "python",
   "pygments_lexer": "ipython3",
   "version": "3.10.12"
  }
 },
 "nbformat": 4,
 "nbformat_minor": 2
}
